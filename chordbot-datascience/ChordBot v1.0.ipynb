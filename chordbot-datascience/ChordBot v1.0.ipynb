{
 "cells": [
  {
   "cell_type": "code",
   "execution_count": 8,
   "metadata": {},
   "outputs": [],
   "source": [
    "import librosa\n",
    "import soundfile as sf\n",
    "\n",
    "# Get example audio file\n",
    "filename = \"audio/Final_Countdown.wav\"\n",
    "\n",
    "data, samplerate = sf.read(filename, dtype='float32')\n",
    "data = data.T\n",
    "data_22k = librosa.resample(data, samplerate, 22050)"
   ]
  },
  {
   "cell_type": "code",
   "execution_count": 9,
   "metadata": {},
   "outputs": [
    {
     "data": {
      "text/plain": [
       "array([ 0.        ,  0.        ,  0.        , ...,  0.00022812,\n",
       "       -0.00025811, -0.00074627], dtype=float32)"
      ]
     },
     "execution_count": 9,
     "metadata": {},
     "output_type": "execute_result"
    }
   ],
   "source": [
    "filename = \"audio/Final_Countdown.wav\"\n",
    "y, sr = librosa.load(filename, sr=11025)\n",
    "y"
   ]
  },
  {
   "cell_type": "code",
   "execution_count": 15,
   "metadata": {},
   "outputs": [
    {
     "name": "stdout",
     "output_type": "stream",
     "text": [
      "Enter file name :audio/Final_Countdown.wav\n"
     ]
    }
   ],
   "source": [
    "from pydub import AudioSegment\n",
    "import filetype\n",
    "\n",
    "def remove(myAudioFile):\n",
    "\tfmt=filetype.guess(myAudioFile).extension\n",
    "\tsound_stereo = AudioSegment.from_file(myAudioFile, format=fmt)\n",
    "\tmono_list=sound_stereo.split_to_mono()\n",
    "\tif len(mono_list)==1:\n",
    "\t\tprint('File contains Mono channel only. Can\\'t operate')\n",
    "\t\treturn\n",
    "\tsound_monoL = mono_list[0]\n",
    "\tsound_monoR = mono_list[1]\n",
    "\tsound_monoR_inv = sound_monoR.invert_phase()\n",
    "\tsound_CentersOut = sound_monoL.overlay(sound_monoR_inv)\n",
    "\tsound_CentersOut.export(myAudioFile.rsplit('.')[0] + '-nolyrics' + '.wav', format='wav')\n",
    "    \n",
    "file=input('Enter file name :')\n",
    "remove(file)"
   ]
  },
  {
   "cell_type": "code",
   "execution_count": 16,
   "metadata": {},
   "outputs": [
    {
     "data": {
      "text/plain": [
       "<Figure size 640x480 with 1 Axes>"
      ]
     },
     "metadata": {},
     "output_type": "display_data"
    }
   ],
   "source": [
    "import matplotlib.pyplot as plot\n",
    "import numpy as np\n",
    "import soundfile as sf\n",
    "\n",
    "#Enter filename below\n",
    "filename = 'audio/Final_Countdown.wav'\n",
    "y, fs = sf.read(filename)\n",
    "\n",
    "time=np.linspace(0, len(y)/fs, num=len(y))\n",
    "\n",
    "plot.figure(1)\n",
    "plot.plot(time, y)\n",
    "plot.show()"
   ]
  },
  {
   "cell_type": "code",
   "execution_count": null,
   "metadata": {},
   "outputs": [],
   "source": [
    "from utilities import chord_sequence\n",
    "from pickle import load\n",
    "from os import listdir\n",
    "models = [i for i in listdir() if i[-4:] == '.sav']\n",
    "models.sort()\n",
    "print('Following models were found. Select which one to use. If you are new, use version 3')\n",
    "for i in range(len(models)):\n",
    "    print(i + 1, ':', models[i])\n",
    "i = int(input('Input model number\\n'))\n",
    "if i > len(models) or i < 1:\n",
    "    print('Wrong input. Terminating...')\n",
    "    exit()\n",
    "model = load(open(models[i - 1], 'rb'))\n",
    "file = input(\"Enter name of file (alongwith path) : \")\n",
    "print('The likely chord sequence in audio file is:')\n",
    "for chord in chord_sequence(model, file, 1):\n",
    "    print(chord, end = ' ')\n",
    "print()"
   ]
  },
  {
   "cell_type": "code",
   "execution_count": null,
   "metadata": {},
   "outputs": [],
   "source": []
  }
 ],
 "metadata": {
  "kernelspec": {
   "display_name": "Python 3",
   "language": "python",
   "name": "python3"
  },
  "language_info": {
   "codemirror_mode": {
    "name": "ipython",
    "version": 3
   },
   "file_extension": ".py",
   "mimetype": "text/x-python",
   "name": "python",
   "nbconvert_exporter": "python",
   "pygments_lexer": "ipython3",
   "version": "3.7.4"
  }
 },
 "nbformat": 4,
 "nbformat_minor": 2
}
