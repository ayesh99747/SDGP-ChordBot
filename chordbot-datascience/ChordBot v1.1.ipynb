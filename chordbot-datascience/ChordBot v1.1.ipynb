{
 "cells": [
  {
   "cell_type": "code",
   "execution_count": 7,
   "metadata": {},
   "outputs": [
    {
     "name": "stdout",
     "output_type": "stream",
     "text": [
      "Enter filename: Reduced Dataset\\audio.wav\n",
      "file Reduced Dataset\\audio.wav\n"
     ]
    },
    {
     "name": "stderr",
     "output_type": "stream",
     "text": [
      "C:\\Users\\ayesh\\Anaconda3\\lib\\site-packages\\sklearn\\base.py:318: UserWarning: Trying to unpickle estimator SGDClassifier from version 0.19.1 when using version 0.22.2. This might lead to breaking code or invalid results. Use at your own risk.\n",
      "  UserWarning)\n"
     ]
    },
    {
     "name": "stdout",
     "output_type": "stream",
     "text": [
      "The model predicted chord to be:  G\n",
      "Is the predicted chord correct?[yes|no]\n",
      "no\n",
      "We are sorry, please help us train the model further.\n",
      "Please enter correct the correct chord\n",
      "Enter true chord of the wav file:  \n"
     ]
    },
    {
     "ename": "KeyError",
     "evalue": "' '",
     "output_type": "error",
     "traceback": [
      "\u001b[1;31m---------------------------------------------------------------------------\u001b[0m",
      "\u001b[1;31mKeyError\u001b[0m                                  Traceback (most recent call last)",
      "\u001b[1;32m<ipython-input-7-dbcf3cfe9979>\u001b[0m in \u001b[0;36m<module>\u001b[1;34m\u001b[0m\n\u001b[0;32m     61\u001b[0m         \u001b[0mprint\u001b[0m\u001b[1;33m(\u001b[0m\u001b[1;34m'Please enter correct the correct chord'\u001b[0m\u001b[1;33m)\u001b[0m\u001b[1;33m\u001b[0m\u001b[1;33m\u001b[0m\u001b[0m\n\u001b[0;32m     62\u001b[0m         \u001b[0mt_chord\u001b[0m \u001b[1;33m=\u001b[0m \u001b[0minput\u001b[0m\u001b[1;33m(\u001b[0m\u001b[1;34m\"Enter true chord of the wav file: \"\u001b[0m\u001b[1;33m)\u001b[0m\u001b[1;33m\u001b[0m\u001b[1;33m\u001b[0m\u001b[0m\n\u001b[1;32m---> 63\u001b[1;33m         \u001b[0mtrue_value\u001b[0m \u001b[1;33m=\u001b[0m \u001b[0mnp\u001b[0m\u001b[1;33m.\u001b[0m\u001b[0marray\u001b[0m\u001b[1;33m(\u001b[0m\u001b[1;33m[\u001b[0m\u001b[0mCtoN\u001b[0m\u001b[1;33m(\u001b[0m\u001b[0mt_chord\u001b[0m\u001b[1;33m)\u001b[0m\u001b[1;33m]\u001b[0m\u001b[1;33m)\u001b[0m\u001b[1;33m\u001b[0m\u001b[1;33m\u001b[0m\u001b[0m\n\u001b[0m\u001b[0;32m     64\u001b[0m         \u001b[1;32mif\u001b[0m \u001b[0mtrue_value\u001b[0m \u001b[1;33m!=\u001b[0m \u001b[0mpred\u001b[0m\u001b[1;33m:\u001b[0m\u001b[1;33m\u001b[0m\u001b[1;33m\u001b[0m\u001b[0m\n\u001b[0;32m     65\u001b[0m                 \u001b[0mmyModel\u001b[0m\u001b[1;33m.\u001b[0m\u001b[0mpartial_fit\u001b[0m\u001b[1;33m(\u001b[0m\u001b[0mX\u001b[0m\u001b[1;33m,\u001b[0m \u001b[0mtrue_value\u001b[0m\u001b[1;33m)\u001b[0m\u001b[1;33m\u001b[0m\u001b[1;33m\u001b[0m\u001b[0m\n",
      "\u001b[1;32m~\\SDGP-ChordBot\\chordbot-datascience\\utilities.py\u001b[0m in \u001b[0;36mCtoN\u001b[1;34m(c)\u001b[0m\n\u001b[0;32m    208\u001b[0m \u001b[1;33m\u001b[0m\u001b[0m\n\u001b[0;32m    209\u001b[0m \u001b[1;32mdef\u001b[0m \u001b[0mCtoN\u001b[0m\u001b[1;33m(\u001b[0m\u001b[0mc\u001b[0m\u001b[1;33m)\u001b[0m\u001b[1;33m:\u001b[0m\u001b[1;33m\u001b[0m\u001b[1;33m\u001b[0m\u001b[0m\n\u001b[1;32m--> 210\u001b[1;33m     \u001b[1;32mreturn\u001b[0m \u001b[0mC_to_N\u001b[0m\u001b[1;33m[\u001b[0m\u001b[0mc\u001b[0m\u001b[1;33m]\u001b[0m\u001b[1;33m\u001b[0m\u001b[1;33m\u001b[0m\u001b[0m\n\u001b[0m",
      "\u001b[1;31mKeyError\u001b[0m: ' '"
     ]
    }
   ],
   "source": [
    "import numpy as np\n",
    "import pickle\n",
    "from utilities import CtoN , NtoC , convert\n",
    "from PCP import pcp\n",
    "import os\n",
    "from sklearn.kernel_approximation import AdditiveChi2Sampler\n",
    "from sklearn.kernel_approximation import RBFSampler\n",
    "\n",
    "#To use the trainer keep the .wav file in the same folder as trainer\n",
    "#Then enter filename (and not path of file) in first field and\n",
    "#the true value of chord in second field\n",
    "#Beware to provide correct true value\n",
    "#Since otherwise it can lead to bugs in the model\n",
    "#Also refrain from overtraining with one particular kind of data/chord\n",
    "#because it can lead to overfitting of data\n",
    "\n",
    "file = str(input(\"Enter filename: \"))\n",
    "#file=file.rsplit('/')[-1]\n",
    "#path='/'.join(file.rsplit('/')[:-1])\n",
    "#print('path',path)\n",
    "print('file',file)\n",
    "\n",
    "prev_model='trained_ML_model_ver3.sav'\n",
    "\n",
    "myModel = pickle.load(open(prev_model, 'rb'))\n",
    "#kernels used to increase features to get better results\n",
    "#You can use two kernels for this purpose Radial Basis Function Kernel\n",
    "#and Additive Chi Squared Kernel\n",
    "#We have refrained ourselves from using other kernels becuase\n",
    "#they do not provide satisfactory results with our model\n",
    "\n",
    "sampler = AdditiveChi2Sampler()\n",
    "#Comment the above sampler and uncomment the lower one to change kernels\n",
    "#sampler = RBFSampler(gamma=1, random_state=1)\n",
    "# If file is not a wav file than convert to .wav format\n",
    "#if (file[-3:] != \"wav\"):\n",
    "#    cmd = \"C:/ffmpeg/bin/ffmpeg.exe -i \" + file + \" \" + file[:-3] + \".wav\"\n",
    "#    os.system(cmd)\n",
    "#    file = file[:-3] + \"wav\"\n",
    "\n",
    "if file.rsplit('.')[-1]!='wav':\n",
    "\tconvert(file)\n",
    "X = pcp(file)\n",
    "X = np.array([X])\n",
    "\n",
    "#Change the features using sampler\n",
    "X = sampler.fit_transform(X)\n",
    "\n",
    "#predicts the chord of the file using the model you provide it with\n",
    "pred = myModel.predict(X)\n",
    "\n",
    "print(\"The model predicted chord to be: \", NtoC(pred[0]))\n",
    "#Checks if there is any error with prediction and actual output\n",
    "#And if they differ it fits the true data with the PCP vector\n",
    "#The changed model is then resaved in the current model\n",
    "ans=input(\"Is the predicted chord correct?[yes|no]\\n\")\n",
    "if ans=='yes':\n",
    "\tprint('Thanks for using our program.')\n",
    "else:\n",
    "\tprint('We are sorry, please help us train the model further.')\n",
    "\tprint('Please enter correct the correct chord')\n",
    "\tt_chord = input(\"Enter true chord of the wav file: \")\n",
    "\ttrue_value = np.array([CtoN(t_chord)])\n",
    "\tif true_value != pred:\n",
    "\t\tmyModel.partial_fit(X, true_value)\n",
    "\t\tpickle.dump(myModel, open(prev_model, 'wb'))\n",
    "\t\tprint('Our model has taken your input into account and corrected itself.')\n",
    "\telse:\n",
    "\t\tprint('You don\\'t fool me. That\\'s what I said.')"
   ]
  },
  {
   "cell_type": "code",
   "execution_count": null,
   "metadata": {},
   "outputs": [],
   "source": []
  }
 ],
 "metadata": {
  "kernelspec": {
   "display_name": "Python 3",
   "language": "python",
   "name": "python3"
  },
  "language_info": {
   "codemirror_mode": {
    "name": "ipython",
    "version": 3
   },
   "file_extension": ".py",
   "mimetype": "text/x-python",
   "name": "python",
   "nbconvert_exporter": "python",
   "pygments_lexer": "ipython3",
   "version": "3.7.4"
  }
 },
 "nbformat": 4,
 "nbformat_minor": 2
}
