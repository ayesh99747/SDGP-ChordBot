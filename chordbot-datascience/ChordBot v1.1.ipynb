{
 "cells": [
  {
   "cell_type": "code",
   "execution_count": 2,
   "metadata": {},
   "outputs": [
    {
     "name": "stdout",
     "output_type": "stream",
     "text": [
      "0.9815\n"
     ]
    }
   ],
   "source": [
    "import numpy as np\n",
    "import pickle\n",
    "from utilities import CtoN\n",
    "import pandas as pd\n",
    "from sklearn.kernel_approximation import AdditiveChi2Sampler\n",
    "from sklearn.kernel_approximation import RBFSampler\n",
    "from sklearn.neural_network import MLPClassifier\n",
    "from sklearn.linear_model import SGDClassifier\n",
    "from sklearn.metrics import accuracy_score\n",
    "\n",
    "model = SGDClassifier(loss='hinge', learning_rate='constant', eta0=0.1, max_iter=2000, tol=1e-3)\n",
    "# SDGClassifier is an estimator that implements regularized linear models.\n",
    "# This implementation works with data represented as dense or sparse arrays of floating point \n",
    "#    values for the features. The model it fits can be controlled with the loss parameter; by default, \n",
    "#    it fits a linear support vector machine.\n",
    "# For a linear hinge we used 'hinge' for the loss. \n",
    "# For learning_rate we used constant which means eta = eta0\n",
    "# The initial learning rate for the ‘constant’ is 0.1. That is eta=0.1\n",
    "# The max_iter is teh number of epochs.\n",
    "# the tol is The stopping criterion.\n",
    "\n",
    "\n",
    "data_set = pd.read_csv(\"Reduced Dataset\\Guitar Training Dataset PCP.csv\") # This reads the dataset and assigns it into an array\n",
    "dim = data_set.shape # This gives the array dimensions\n",
    "x = dim[0] # This gives the x dimension = 2000\n",
    "y = dim[1] - 1 # This gives the y dimension -1 = 13\n",
    "\n",
    "\n",
    "dim = (x, y) # This creates a new array with x,y dimensions\n",
    "X = np.zeros(dim) # This assigns zero to all the values\n",
    "i = 0\n",
    "while i < 12:\n",
    "    X[:, i] = data_set[str(i)]\n",
    "    i += 1\n",
    "\n",
    "    \n",
    "y = np.zeros((X.shape)[0])\n",
    "counter = 0\n",
    "value = 1\n",
    "data_per_chord = 200\n",
    "for i in range(0, (X.shape)[0]):\n",
    "    if counter == data_per_chord:\n",
    "        value += 1\n",
    "        counter = 0\n",
    "    y[i] = value\n",
    "    counter += 1\n",
    "    \n",
    "    \n",
    "sampler = AdditiveChi2Sampler()\n",
    "# This uses sampling the fourier transform of the kernel characteristic at regular intervals.\n",
    "\n",
    "X = sampler.fit_transform(X)\n",
    "# This approximates feature map of an RBF kernel by Monte Carlo approximation of its Fourier transform.\n",
    "\n",
    "model.fit(X, y)\n",
    "# This users LinearRegression to fit a linear model with coefficients\n",
    "filename = 'ML_model_ver2.sav'\n",
    "\n",
    "\n",
    "pickle.dump(model, open(filename, 'wb'))\n",
    "\n",
    "\n",
    "myModel = pickle.load(open('ML_model_ver2.sav', 'rb'))\n",
    "#This desirializes the trained model\n",
    "\n",
    "pred = myModel.predict(X)\n",
    "print(accuracy_score(pred, y))\n"
   ]
  },
  {
   "cell_type": "code",
   "execution_count": null,
   "metadata": {},
   "outputs": [],
   "source": []
  },
  {
   "cell_type": "code",
   "execution_count": null,
   "metadata": {},
   "outputs": [
    {
     "name": "stdout",
     "output_type": "stream",
     "text": [
      "Enter filename: Python Demo\\audio.wav\n",
      "file Python Demo\\audio.wav\n"
     ]
    },
    {
     "name": "stderr",
     "output_type": "stream",
     "text": [
      "C:\\Users\\ayesh\\Anaconda3\\lib\\site-packages\\sklearn\\utils\\deprecation.py:144: FutureWarning: The sklearn.linear_model.stochastic_gradient module is  deprecated in version 0.22 and will be removed in version 0.24. The corresponding classes / functions should instead be imported from sklearn.linear_model. Anything that cannot be imported from sklearn.linear_model is now part of the private API.\n",
      "  warnings.warn(message, FutureWarning)\n",
      "C:\\Users\\ayesh\\Anaconda3\\lib\\site-packages\\sklearn\\utils\\deprecation.py:144: FutureWarning: The sklearn.linear_model.sgd_fast module is  deprecated in version 0.22 and will be removed in version 0.24. The corresponding classes / functions should instead be imported from sklearn.linear_model. Anything that cannot be imported from sklearn.linear_model is now part of the private API.\n",
      "  warnings.warn(message, FutureWarning)\n",
      "C:\\Users\\ayesh\\Anaconda3\\lib\\site-packages\\sklearn\\base.py:318: UserWarning: Trying to unpickle estimator SGDClassifier from version 0.19.1 when using version 0.22.2. This might lead to breaking code or invalid results. Use at your own risk.\n",
      "  UserWarning)\n"
     ]
    },
    {
     "name": "stdout",
     "output_type": "stream",
     "text": [
      "The model predicted chord to be:  G\n"
     ]
    }
   ],
   "source": [
    "import numpy as np\n",
    "import pickle\n",
    "from utilities import CtoN , NtoC , convert\n",
    "from PCP import pcp\n",
    "import os\n",
    "from sklearn.kernel_approximation import AdditiveChi2Sampler\n",
    "from sklearn.kernel_approximation import RBFSampler\n",
    "\n",
    "file = str(input(\"Enter filename: \"))\n",
    "\n",
    "print('file',file)\n",
    "\n",
    "prev_model='trained_ML_model_ver3.sav'\n",
    "\n",
    "myModel = pickle.load(open(prev_model, 'rb'))\n",
    "\n",
    "sampler = AdditiveChi2Sampler()\n",
    "\n",
    "if file.rsplit('.')[-1]!='wav':\n",
    "\tconvert(file)\n",
    "X = pcp(file)\n",
    "X = np.array([X])\n",
    "\n",
    "X = sampler.fit_transform(X)\n",
    "\n",
    "pred = myModel.predict(X)\n",
    "\n",
    "print(\"The model predicted chord to be: \", NtoC(pred[0]))\n",
    "\n",
    "ans=input(\"Is the predicted chord correct?[yes|no]\\n\")\n",
    "if ans=='yes':\n",
    "\tprint('Thanks for using our program.')\n",
    "else:\n",
    "\tprint('We are sorry, please help us train the model further.')\n",
    "\tprint('Please enter correct the correct chord')\n",
    "\tt_chord = input(\"Enter true chord of the wav file: \")\n",
    "\ttrue_value = np.array([CtoN(t_chord)])\n",
    "\tif true_value != pred:\n",
    "\t\tmyModel.partial_fit(X, true_value)\n",
    "\t\tpickle.dump(myModel, open(prev_model, 'wb'))\n",
    "\t\tprint('Our model has taken your input into account and corrected itself.')\n",
    "\telse:\n",
    "\t\tprint('Wrong cord.')\n",
    "        "
   ]
  }
 ],
 "metadata": {
  "kernelspec": {
   "display_name": "Python 3",
   "language": "python",
   "name": "python3"
  },
  "language_info": {
   "codemirror_mode": {
    "name": "ipython",
    "version": 3
   },
   "file_extension": ".py",
   "mimetype": "text/x-python",
   "name": "python",
   "nbconvert_exporter": "python",
   "pygments_lexer": "ipython3",
   "version": "3.7.4"
  }
 },
 "nbformat": 4,
 "nbformat_minor": 2
}
