{
 "cells": [
  {
   "cell_type": "code",
   "execution_count": 2,
   "metadata": {},
   "outputs": [
    {
     "name": "stderr",
     "output_type": "stream",
     "text": [
      "C:\\Users\\ayesh\\Anaconda3\\lib\\site-packages\\sklearn\\base.py:318: UserWarning: Trying to unpickle estimator SGDClassifier from version 0.19.1 when using version 0.22.2. This might lead to breaking code or invalid results. Use at your own risk.\n",
      "  UserWarning)\n"
     ]
    },
    {
     "name": "stdout",
     "output_type": "stream",
     "text": [
      "The likely chord sequence in audio file is:\n",
      "File contains Mono channel only. Can't enhance\n",
      "Final_Countdown.wav\n",
      "D D D D D D Bm Bm Bm Bm Bm E E F F A A A A A D D D D D D D E F F F F D D D D D D D Bm Bm Bm Bm Bm E __ \n"
     ]
    }
   ],
   "source": [
    "from utilities import chord_sequence\n",
    "from pickle import load\n",
    "from os import listdir\n",
    "\n",
    "model = load(open('trained_ML_model_ver3.sav', 'rb'))\n",
    "file = 'Final_Countdown.wav'\n",
    "print('The likely chord sequence in audio file is:')\n",
    "for chord in chord_sequence(model, file, 1):\n",
    "    print(chord, end = ' ')\n",
    "print()\n"
   ]
  },
  {
   "cell_type": "code",
   "execution_count": null,
   "metadata": {},
   "outputs": [],
   "source": []
  }
 ],
 "metadata": {
  "kernelspec": {
   "display_name": "Python 3",
   "language": "python",
   "name": "python3"
  },
  "language_info": {
   "codemirror_mode": {
    "name": "ipython",
    "version": 3
   },
   "file_extension": ".py",
   "mimetype": "text/x-python",
   "name": "python",
   "nbconvert_exporter": "python",
   "pygments_lexer": "ipython3",
   "version": "3.7.4"
  }
 },
 "nbformat": 4,
 "nbformat_minor": 2
}
