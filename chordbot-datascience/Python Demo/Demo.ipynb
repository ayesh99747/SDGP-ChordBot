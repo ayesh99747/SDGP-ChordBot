{
 "cells": [
  {
   "cell_type": "code",
   "execution_count": 1,
   "metadata": {},
   "outputs": [
    {
     "name": "stdout",
     "output_type": "stream",
     "text": [
      "Following models were found. Select which one to use. If you are new, use version 3\n",
      "1 : trained_ML_model_ver3.sav\n",
      "Input model number\n",
      "1\n"
     ]
    },
    {
     "name": "stderr",
     "output_type": "stream",
     "text": [
      "C:\\Users\\ayesh\\Anaconda3\\lib\\site-packages\\sklearn\\utils\\deprecation.py:144: FutureWarning: The sklearn.linear_model.stochastic_gradient module is  deprecated in version 0.22 and will be removed in version 0.24. The corresponding classes / functions should instead be imported from sklearn.linear_model. Anything that cannot be imported from sklearn.linear_model is now part of the private API.\n",
      "  warnings.warn(message, FutureWarning)\n",
      "C:\\Users\\ayesh\\Anaconda3\\lib\\site-packages\\sklearn\\utils\\deprecation.py:144: FutureWarning: The sklearn.linear_model.sgd_fast module is  deprecated in version 0.22 and will be removed in version 0.24. The corresponding classes / functions should instead be imported from sklearn.linear_model. Anything that cannot be imported from sklearn.linear_model is now part of the private API.\n",
      "  warnings.warn(message, FutureWarning)\n",
      "C:\\Users\\ayesh\\Anaconda3\\lib\\site-packages\\sklearn\\base.py:318: UserWarning: Trying to unpickle estimator SGDClassifier from version 0.19.1 when using version 0.22.2. This might lead to breaking code or invalid results. Use at your own risk.\n",
      "  UserWarning)\n"
     ]
    },
    {
     "name": "stdout",
     "output_type": "stream",
     "text": [
      "The likely chord sequence in audio file is:\n",
      "File contains Mono channel only. Can't enhance\n",
      "Final_Countdown.wav\n",
      "D D D D D D Bm Bm Bm Bm Bm E E F F A A A A A D D D D D D D E F F F F D D D D D D D Bm Bm Bm Bm Bm E __ \n"
     ]
    }
   ],
   "source": [
    "from utilities import chord_sequence\n",
    "from pickle import load\n",
    "from os import listdir\n",
    "models = [i for i in listdir() if i[-4:] == '.sav']\n",
    "models.sort()\n",
    "print('Following models were found. Select which one to use. If you are new, use version 3')\n",
    "for i in range(len(models)):\n",
    "    print(i + 1, ':', models[i])\n",
    "i = int(input('Input model number\\n'))\n",
    "if i > len(models) or i < 1:\n",
    "    print('Wrong input. Terminating...')\n",
    "    exit()\n",
    "model = load(open(models[i - 1], 'rb'))\n",
    "file = 'Final_Countdown.wav'\n",
    "print('The likely chord sequence in audio file is:')\n",
    "for chord in chord_sequence(model, file, 1):\n",
    "    print(chord, end = ' ')\n",
    "print()\n"
   ]
  }
 ],
 "metadata": {
  "kernelspec": {
   "display_name": "Python 3",
   "language": "python",
   "name": "python3"
  },
  "language_info": {
   "codemirror_mode": {
    "name": "ipython",
    "version": 3
   },
   "file_extension": ".py",
   "mimetype": "text/x-python",
   "name": "python",
   "nbconvert_exporter": "python",
   "pygments_lexer": "ipython3",
   "version": "3.7.4"
  }
 },
 "nbformat": 4,
 "nbformat_minor": 2
}
