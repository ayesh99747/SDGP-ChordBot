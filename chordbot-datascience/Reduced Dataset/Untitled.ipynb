{
 "cells": [
  {
   "cell_type": "code",
   "execution_count": 2,
   "metadata": {},
   "outputs": [],
   "source": [
    "import numpy as np\n",
    "import pandas as pd\n",
    "import os\n",
    "from PCP import PCP\n",
    "CtoN = {'a': 0, 'am': 1, 'bm': 2, 'c': 3, 'd': 4,\n",
    "        'dm': 5, 'e': 6, 'em': 7, 'f': 8, 'g': 9}\n",
    "dir = './'\n",
    "folders = [os.path.join(dir, i) for i in os.listdir(dir) if len(i) < 4]\n",
    "files = []\n",
    "for folder in folders:\n",
    "    files += [os.path.join(folder, i) for i in os.listdir(folder)]\n",
    "data = []\n",
    "for i in range(len(files)):\n",
    "    print(files[i])\n",
    "    crp = PCP('/'.join(files[i].rsplit('/')[:-1]), '/' + files[i].rsplit('/')[-1])\n",
    "    crp = np.array(crp).reshape(-1,1)\n",
    "    print(i, files[i].rsplit('/')[-1])\n",
    "\n",
    "    for j in range(crp.shape[1]):\n",
    "        data.append(list(crp[:, j]) + [CtoN[files[i].rsplit('/')[-2][:-1]]])\n",
    "data = np.array(data)\n",
    "Data = pd.DataFrame(data)\n",
    "Data.to_csv('Chamudi.csv')\n"
   ]
  },
  {
   "cell_type": "code",
   "execution_count": 3,
   "metadata": {},
   "outputs": [
    {
     "ename": "FileNotFoundError",
     "evalue": "[WinError 3] The system cannot find the path specified: '/Users/Hasakelum/Desktop/Chords-and-Beats-Extraction-using-ML/ReducedData'",
     "output_type": "error",
     "traceback": [
      "\u001b[1;31m---------------------------------------------------------------------------\u001b[0m",
      "\u001b[1;31mFileNotFoundError\u001b[0m                         Traceback (most recent call last)",
      "\u001b[1;32m<ipython-input-3-c50c6756da17>\u001b[0m in \u001b[0;36m<module>\u001b[1;34m\u001b[0m\n\u001b[0;32m      6\u001b[0m         'dm': 5, 'e': 6, 'em': 7, 'f': 8, 'g': 9}\n\u001b[0;32m      7\u001b[0m \u001b[0mdir\u001b[0m \u001b[1;33m=\u001b[0m \u001b[1;34m'/Users/Hasakelum/Desktop/Chords-and-Beats-Extraction-using-ML/ReducedData'\u001b[0m\u001b[1;33m\u001b[0m\u001b[1;33m\u001b[0m\u001b[0m\n\u001b[1;32m----> 8\u001b[1;33m \u001b[0mfolders\u001b[0m \u001b[1;33m=\u001b[0m \u001b[1;33m[\u001b[0m\u001b[0mos\u001b[0m\u001b[1;33m.\u001b[0m\u001b[0mpath\u001b[0m\u001b[1;33m.\u001b[0m\u001b[0mjoin\u001b[0m\u001b[1;33m(\u001b[0m\u001b[0mdir\u001b[0m\u001b[1;33m,\u001b[0m \u001b[0mi\u001b[0m\u001b[1;33m)\u001b[0m \u001b[1;32mfor\u001b[0m \u001b[0mi\u001b[0m \u001b[1;32min\u001b[0m \u001b[0mos\u001b[0m\u001b[1;33m.\u001b[0m\u001b[0mlistdir\u001b[0m\u001b[1;33m(\u001b[0m\u001b[0mdir\u001b[0m\u001b[1;33m)\u001b[0m \u001b[1;32mif\u001b[0m \u001b[0mlen\u001b[0m\u001b[1;33m(\u001b[0m\u001b[0mi\u001b[0m\u001b[1;33m)\u001b[0m \u001b[1;33m<\u001b[0m \u001b[1;36m4\u001b[0m\u001b[1;33m]\u001b[0m\u001b[1;33m\u001b[0m\u001b[1;33m\u001b[0m\u001b[0m\n\u001b[0m\u001b[0;32m      9\u001b[0m \u001b[0mfiles\u001b[0m \u001b[1;33m=\u001b[0m \u001b[1;33m[\u001b[0m\u001b[1;33m]\u001b[0m\u001b[1;33m\u001b[0m\u001b[1;33m\u001b[0m\u001b[0m\n\u001b[0;32m     10\u001b[0m \u001b[0mprint\u001b[0m\u001b[1;33m(\u001b[0m\u001b[0mlen\u001b[0m\u001b[1;33m(\u001b[0m\u001b[0mfiles\u001b[0m\u001b[1;33m)\u001b[0m\u001b[1;33m)\u001b[0m\u001b[1;33m\u001b[0m\u001b[1;33m\u001b[0m\u001b[0m\n",
      "\u001b[1;31mFileNotFoundError\u001b[0m: [WinError 3] The system cannot find the path specified: '/Users/Hasakelum/Desktop/Chords-and-Beats-Extraction-using-ML/ReducedData'"
     ]
    }
   ],
   "source": [
    "import numpy as np\n",
    "import pandas as pd\n",
    "import os\n",
    "from PCP import PCP\n",
    "CtoN = {'a': 0, 'am': 1, 'bm': 2, 'c': 3, 'd': 4,\n",
    "        'dm': 5, 'e': 6, 'em': 7, 'f': 8, 'g': 9}\n",
    "dir = '/Users/Hasakelum/Desktop/Chords-and-Beats-Extraction-using-ML/ReducedData'\n",
    "folders = [os.path.join(dir, i) for i in os.listdir(dir) if len(i) < 4]\n",
    "files = []\n",
    "print(len(files))\n",
    "#for folder in folders:\n",
    "    #files += [os.path.join(folder, i) for i in os.listdir(folder)]\n",
    "data = []\n",
    "#for i in range(len(files)):\n",
    "    #print(files[i])\n",
    "crp = PCP('/Users/Hasakelum/Desktop/Chords-and-Beats-Extraction-using-ML/ReducedData/', 'audio.wav')\n",
    "crp = np.array(crp).reshape(-1,1)\n",
    "#print(i, files[i].rsplit('/')[-1])\n",
    "\n",
    "for j in range(crp.shape[1]):\n",
    "    data.append(list(crp[:, j]))\n",
    "data = np.array(data)\n",
    "Data = pd.DataFrame(data)\n",
    "Data.to_csv('hasakelum.csv')"
   ]
  },
  {
   "cell_type": "code",
   "execution_count": 5,
   "metadata": {},
   "outputs": [
    {
     "ename": "SyntaxError",
     "evalue": "(unicode error) 'unicodeescape' codec can't decode bytes in position 2-3: truncated \\UXXXXXXXX escape (<ipython-input-5-db3fc6d3d3ab>, line 16)",
     "output_type": "error",
     "traceback": [
      "\u001b[1;36m  File \u001b[1;32m\"<ipython-input-5-db3fc6d3d3ab>\"\u001b[1;36m, line \u001b[1;32m16\u001b[0m\n\u001b[1;33m    crp = PCP('C:\\Users\\chamu\\Chords-and-Beats-Extraction-using-ML\\Reduced Dataset', 'audio.wav')\u001b[0m\n\u001b[1;37m             ^\u001b[0m\n\u001b[1;31mSyntaxError\u001b[0m\u001b[1;31m:\u001b[0m (unicode error) 'unicodeescape' codec can't decode bytes in position 2-3: truncated \\UXXXXXXXX escape\n"
     ]
    }
   ],
   "source": [
    "import numpy as np\n",
    "import pandas as pd\n",
    "import os\n",
    "from PCP import PCP\n",
    "CtoN = {'a': 0, 'am': 1, 'bm': 2, 'c': 3, 'd': 4,\n",
    "        'dm': 5, 'e': 6, 'em': 7, 'f': 8, 'g': 9}\n",
    "dir = '/Users/Hasakelum/Desktop/Chords-and-Beats-Extraction-using-ML/ReducedData'\n",
    "folders = [os.path.join(dir, i) for i in os.listdir(dir) if len(i) < 4]\n",
    "files = []\n",
    "print(len(files))\n",
    "#for folder in folders:\n",
    "    #files += [os.path.join(folder, i) for i in os.listdir(folder)]\n",
    "data = []\n",
    "#for i in range(len(files)):\n",
    "    #print(files[i])\n",
    "crp = PCP('C:\\Users\\chamu\\Chords-and-Beats-Extraction-using-ML\\Reduced Dataset', 'audio.wav')\n",
    "crp = np.array(crp).reshape(-1,1)\n",
    "#print(i, files[i].rsplit('/')[-1])\n",
    "\n",
    "for j in range(crp.shape[1]):\n",
    "    data.append(list(crp[:, j]))\n",
    "data = np.array(data)\n",
    "Data = pd.DataFrame(data)\n",
    "Data.to_csv('hasakelum.csv')"
   ]
  },
  {
   "cell_type": "code",
   "execution_count": 6,
   "metadata": {},
   "outputs": [
    {
     "ename": "SyntaxError",
     "evalue": "(unicode error) 'unicodeescape' codec can't decode bytes in position 2-3: truncated \\UXXXXXXXX escape (<ipython-input-6-db3fc6d3d3ab>, line 16)",
     "output_type": "error",
     "traceback": [
      "\u001b[1;36m  File \u001b[1;32m\"<ipython-input-6-db3fc6d3d3ab>\"\u001b[1;36m, line \u001b[1;32m16\u001b[0m\n\u001b[1;33m    crp = PCP('C:\\Users\\chamu\\Chords-and-Beats-Extraction-using-ML\\Reduced Dataset', 'audio.wav')\u001b[0m\n\u001b[1;37m             ^\u001b[0m\n\u001b[1;31mSyntaxError\u001b[0m\u001b[1;31m:\u001b[0m (unicode error) 'unicodeescape' codec can't decode bytes in position 2-3: truncated \\UXXXXXXXX escape\n"
     ]
    }
   ],
   "source": [
    "import numpy as np\n",
    "import pandas as pd\n",
    "import os\n",
    "from PCP import PCP\n",
    "CtoN = {'a': 0, 'am': 1, 'bm': 2, 'c': 3, 'd': 4,\n",
    "        'dm': 5, 'e': 6, 'em': 7, 'f': 8, 'g': 9}\n",
    "dir = '/Users/Hasakelum/Desktop/Chords-and-Beats-Extraction-using-ML/ReducedData'\n",
    "folders = [os.path.join(dir, i) for i in os.listdir(dir) if len(i) < 4]\n",
    "files = []\n",
    "print(len(files))\n",
    "#for folder in folders:\n",
    "    #files += [os.path.join(folder, i) for i in os.listdir(folder)]\n",
    "data = []\n",
    "#for i in range(len(files)):\n",
    "    #print(files[i])\n",
    "crp = PCP('C:\\Users\\chamu\\Chords-and-Beats-Extraction-using-ML\\Reduced Dataset', 'audio.wav')\n",
    "crp = np.array(crp).reshape(-1,1)\n",
    "#print(i, files[i].rsplit('/')[-1])\n",
    "\n",
    "for j in range(crp.shape[1]):\n",
    "    data.append(list(crp[:, j]))\n",
    "data = np.array(data)\n",
    "Data = pd.DataFrame(data)\n",
    "Data.to_csv('hasakelum.csv')"
   ]
  },
  {
   "cell_type": "code",
   "execution_count": 7,
   "metadata": {},
   "outputs": [
    {
     "ename": "SyntaxError",
     "evalue": "(unicode error) 'unicodeescape' codec can't decode bytes in position 0-1: truncated \\UXXXXXXXX escape (<ipython-input-7-bf7d6cef3797>, line 16)",
     "output_type": "error",
     "traceback": [
      "\u001b[1;36m  File \u001b[1;32m\"<ipython-input-7-bf7d6cef3797>\"\u001b[1;36m, line \u001b[1;32m16\u001b[0m\n\u001b[1;33m    crp = PCP('\\Users\\chamu\\Chords-and-Beats-Extraction-using-ML\\Reduced Dataset', 'audio.wav')\u001b[0m\n\u001b[1;37m             ^\u001b[0m\n\u001b[1;31mSyntaxError\u001b[0m\u001b[1;31m:\u001b[0m (unicode error) 'unicodeescape' codec can't decode bytes in position 0-1: truncated \\UXXXXXXXX escape\n"
     ]
    }
   ],
   "source": [
    "import numpy as np\n",
    "import pandas as pd\n",
    "import os\n",
    "from PCP import PCP\n",
    "CtoN = {'a': 0, 'am': 1, 'bm': 2, 'c': 3, 'd': 4,\n",
    "        'dm': 5, 'e': 6, 'em': 7, 'f': 8, 'g': 9}\n",
    "dir = '/Users/Hasakelum/Desktop/Chords-and-Beats-Extraction-using-ML/ReducedData'\n",
    "folders = [os.path.join(dir, i) for i in os.listdir(dir) if len(i) < 4]\n",
    "files = []\n",
    "print(len(files))\n",
    "#for folder in folders:\n",
    "    #files += [os.path.join(folder, i) for i in os.listdir(folder)]\n",
    "data = []\n",
    "#for i in range(len(files)):\n",
    "    #print(files[i])\n",
    "crp = PCP('\\Users\\chamu\\Chords-and-Beats-Extraction-using-ML\\Reduced Dataset', 'audio.wav')\n",
    "crp = np.array(crp).reshape(-1,1)\n",
    "#print(i, files[i].rsplit('/')[-1])\n",
    "\n",
    "for j in range(crp.shape[1]):\n",
    "    data.append(list(crp[:, j]))\n",
    "data = np.array(data)\n",
    "Data = pd.DataFrame(data)\n",
    "Data.to_csv('hasakelum.csv')"
   ]
  },
  {
   "cell_type": "code",
   "execution_count": 8,
   "metadata": {},
   "outputs": [
    {
     "ename": "FileNotFoundError",
     "evalue": "[WinError 3] The system cannot find the path specified: '/Users/Hasakelum/Desktop/Chords-and-Beats-Extraction-using-ML/ReducedData'",
     "output_type": "error",
     "traceback": [
      "\u001b[1;31m---------------------------------------------------------------------------\u001b[0m",
      "\u001b[1;31mFileNotFoundError\u001b[0m                         Traceback (most recent call last)",
      "\u001b[1;32m<ipython-input-8-89d9b81fa981>\u001b[0m in \u001b[0;36m<module>\u001b[1;34m\u001b[0m\n\u001b[0;32m      6\u001b[0m         'dm': 5, 'e': 6, 'em': 7, 'f': 8, 'g': 9}\n\u001b[0;32m      7\u001b[0m \u001b[0mdir\u001b[0m \u001b[1;33m=\u001b[0m \u001b[1;34m'/Users/Hasakelum/Desktop/Chords-and-Beats-Extraction-using-ML/ReducedData'\u001b[0m\u001b[1;33m\u001b[0m\u001b[1;33m\u001b[0m\u001b[0m\n\u001b[1;32m----> 8\u001b[1;33m \u001b[0mfolders\u001b[0m \u001b[1;33m=\u001b[0m \u001b[1;33m[\u001b[0m\u001b[0mos\u001b[0m\u001b[1;33m.\u001b[0m\u001b[0mpath\u001b[0m\u001b[1;33m.\u001b[0m\u001b[0mjoin\u001b[0m\u001b[1;33m(\u001b[0m\u001b[0mdir\u001b[0m\u001b[1;33m,\u001b[0m \u001b[0mi\u001b[0m\u001b[1;33m)\u001b[0m \u001b[1;32mfor\u001b[0m \u001b[0mi\u001b[0m \u001b[1;32min\u001b[0m \u001b[0mos\u001b[0m\u001b[1;33m.\u001b[0m\u001b[0mlistdir\u001b[0m\u001b[1;33m(\u001b[0m\u001b[0mdir\u001b[0m\u001b[1;33m)\u001b[0m \u001b[1;32mif\u001b[0m \u001b[0mlen\u001b[0m\u001b[1;33m(\u001b[0m\u001b[0mi\u001b[0m\u001b[1;33m)\u001b[0m \u001b[1;33m<\u001b[0m \u001b[1;36m4\u001b[0m\u001b[1;33m]\u001b[0m\u001b[1;33m\u001b[0m\u001b[1;33m\u001b[0m\u001b[0m\n\u001b[0m\u001b[0;32m      9\u001b[0m \u001b[0mfiles\u001b[0m \u001b[1;33m=\u001b[0m \u001b[1;33m[\u001b[0m\u001b[1;33m]\u001b[0m\u001b[1;33m\u001b[0m\u001b[1;33m\u001b[0m\u001b[0m\n\u001b[0;32m     10\u001b[0m \u001b[0mprint\u001b[0m\u001b[1;33m(\u001b[0m\u001b[0mlen\u001b[0m\u001b[1;33m(\u001b[0m\u001b[0mfiles\u001b[0m\u001b[1;33m)\u001b[0m\u001b[1;33m)\u001b[0m\u001b[1;33m\u001b[0m\u001b[1;33m\u001b[0m\u001b[0m\n",
      "\u001b[1;31mFileNotFoundError\u001b[0m: [WinError 3] The system cannot find the path specified: '/Users/Hasakelum/Desktop/Chords-and-Beats-Extraction-using-ML/ReducedData'"
     ]
    }
   ],
   "source": [
    "import numpy as np\n",
    "import pandas as pd\n",
    "import os\n",
    "from PCP import PCP\n",
    "CtoN = {'a': 0, 'am': 1, 'bm': 2, 'c': 3, 'd': 4,\n",
    "        'dm': 5, 'e': 6, 'em': 7, 'f': 8, 'g': 9}\n",
    "dir = '/Users/Hasakelum/Desktop/Chords-and-Beats-Extraction-using-ML/ReducedData'\n",
    "folders = [os.path.join(dir, i) for i in os.listdir(dir) if len(i) < 4]\n",
    "files = []\n",
    "print(len(files))\n",
    "#for folder in folders:\n",
    "    #files += [os.path.join(folder, i) for i in os.listdir(folder)]\n",
    "data = []\n",
    "#for i in range(len(files)):\n",
    "    #print(files[i])\n",
    "crp = PCP('/Users/chamu/Chords-and-Beats-Extraction-using-ML/Reduced Dataset/', 'audio.wav')\n",
    "crp = np.array(crp).reshape(-1,1)\n",
    "#print(i, files[i].rsplit('/')[-1])\n",
    "\n",
    "for j in range(crp.shape[1]):\n",
    "    data.append(list(crp[:, j]))\n",
    "data = np.array(data)\n",
    "Data = pd.DataFrame(data)\n",
    "Data.to_csv('hasakelum.csv')"
   ]
  },
  {
   "cell_type": "code",
   "execution_count": 9,
   "metadata": {},
   "outputs": [
    {
     "ename": "SyntaxError",
     "evalue": "invalid syntax (<ipython-input-9-08eb990655e5>, line 16)",
     "output_type": "error",
     "traceback": [
      "\u001b[1;36m  File \u001b[1;32m\"<ipython-input-9-08eb990655e5>\"\u001b[1;36m, line \u001b[1;32m16\u001b[0m\n\u001b[1;33m    crp = PCP('\\Users\\chamu\\Chords-and-Beats-Extraction-using-ML\\Reduced Dataset\\', 'audio.wav')\u001b[0m\n\u001b[1;37m                                                                                         ^\u001b[0m\n\u001b[1;31mSyntaxError\u001b[0m\u001b[1;31m:\u001b[0m invalid syntax\n"
     ]
    }
   ],
   "source": [
    "import numpy as np\n",
    "import pandas as pd\n",
    "import os\n",
    "from PCP import PCP\n",
    "CtoN = {'a': 0, 'am': 1, 'bm': 2, 'c': 3, 'd': 4,\n",
    "        'dm': 5, 'e': 6, 'em': 7, 'f': 8, 'g': 9}\n",
    "dir = '/Users/Hasakelum/Desktop/Chords-and-Beats-Extraction-using-ML/ReducedData'\n",
    "folders = [os.path.join(dir, i) for i in os.listdir(dir) if len(i) < 4]\n",
    "files = []\n",
    "print(len(files))\n",
    "#for folder in folders:\n",
    "    #files += [os.path.join(folder, i) for i in os.listdir(folder)]\n",
    "data = []\n",
    "#for i in range(len(files)):\n",
    "    #print(files[i])\n",
    "crp = PCP('\\Users\\chamu\\Chords-and-Beats-Extraction-using-ML\\Reduced Dataset\\', 'audio.wav')\n",
    "crp = np.array(crp).reshape(-1,1)\n",
    "#print(i, files[i].rsplit('/')[-1])\n",
    "\n",
    "for j in range(crp.shape[1]):\n",
    "    data.append(list(crp[:, j]))\n",
    "data = np.array(data)\n",
    "Data = pd.DataFrame(data)\n",
    "Data.to_csv('hasakelum.csv')"
   ]
  },
  {
   "cell_type": "code",
   "execution_count": 11,
   "metadata": {},
   "outputs": [
    {
     "ename": "SyntaxError",
     "evalue": "(unicode error) 'unicodeescape' codec can't decode bytes in position 0-1: truncated \\UXXXXXXXX escape (<ipython-input-11-c32aba1ccc49>, line 7)",
     "output_type": "error",
     "traceback": [
      "\u001b[1;36m  File \u001b[1;32m\"<ipython-input-11-c32aba1ccc49>\"\u001b[1;36m, line \u001b[1;32m7\u001b[0m\n\u001b[1;33m    dir = '\\Users\\chamu\\Chords-and-Beats-Extraction-using-ML\\Reduced Dataset'\u001b[0m\n\u001b[1;37m         ^\u001b[0m\n\u001b[1;31mSyntaxError\u001b[0m\u001b[1;31m:\u001b[0m (unicode error) 'unicodeescape' codec can't decode bytes in position 0-1: truncated \\UXXXXXXXX escape\n"
     ]
    }
   ],
   "source": [
    "import numpy as np\n",
    "import pandas as pd\n",
    "import os\n",
    "from PCP import PCP\n",
    "CtoN = {'a': 0, 'am': 1, 'bm': 2, 'c': 3, 'd': 4,\n",
    "        'dm': 5, 'e': 6, 'em': 7, 'f': 8, 'g': 9}\n",
    "dir = '\\Users\\chamu\\Chords-and-Beats-Extraction-using-ML\\Reduced Dataset'\n",
    "folders = [os.path.join(dir, i) for i in os.listdir(dir) if len(i) < 4]\n",
    "files = []\n",
    "print(len(files))\n",
    "#for folder in folders:\n",
    "    #files += [os.path.join(folder, i) for i in os.listdir(folder)]\n",
    "data = []\n",
    "#for i in range(len(files)):\n",
    "    #print(files[i])\n",
    "crp = PCP('\\Users\\chamu\\Chords-and-Beats-Extraction-using-ML\\Reduced Dataset', 'audio.wav')\n",
    "crp = np.array(crp).reshape(-1,1)\n",
    "#print(i, files[i].rsplit('/')[-1])\n",
    "\n",
    "for j in range(crp.shape[1]):\n",
    "    data.append(list(crp[:, j]))\n",
    "data = np.array(data)\n",
    "Data = pd.DataFrame(data)\n",
    "Data.to_csv('hasakelum.csv')"
   ]
  },
  {
   "cell_type": "code",
   "execution_count": 12,
   "metadata": {},
   "outputs": [
    {
     "ename": "SyntaxError",
     "evalue": "(unicode error) 'unicodeescape' codec can't decode bytes in position 0-1: truncated \\UXXXXXXXX escape (<ipython-input-12-c32aba1ccc49>, line 7)",
     "output_type": "error",
     "traceback": [
      "\u001b[1;36m  File \u001b[1;32m\"<ipython-input-12-c32aba1ccc49>\"\u001b[1;36m, line \u001b[1;32m7\u001b[0m\n\u001b[1;33m    dir = '\\Users\\chamu\\Chords-and-Beats-Extraction-using-ML\\Reduced Dataset'\u001b[0m\n\u001b[1;37m         ^\u001b[0m\n\u001b[1;31mSyntaxError\u001b[0m\u001b[1;31m:\u001b[0m (unicode error) 'unicodeescape' codec can't decode bytes in position 0-1: truncated \\UXXXXXXXX escape\n"
     ]
    }
   ],
   "source": [
    "import numpy as np\n",
    "import pandas as pd\n",
    "import os\n",
    "from PCP import PCP\n",
    "CtoN = {'a': 0, 'am': 1, 'bm': 2, 'c': 3, 'd': 4,\n",
    "        'dm': 5, 'e': 6, 'em': 7, 'f': 8, 'g': 9}\n",
    "dir = '\\Users\\chamu\\Chords-and-Beats-Extraction-using-ML\\Reduced Dataset'\n",
    "folders = [os.path.join(dir, i) for i in os.listdir(dir) if len(i) < 4]\n",
    "files = []\n",
    "print(len(files))\n",
    "#for folder in folders:\n",
    "    #files += [os.path.join(folder, i) for i in os.listdir(folder)]\n",
    "data = []\n",
    "#for i in range(len(files)):\n",
    "    #print(files[i])\n",
    "crp = PCP('\\Users\\chamu\\Chords-and-Beats-Extraction-using-ML\\Reduced Dataset', 'audio.wav')\n",
    "crp = np.array(crp).reshape(-1,1)\n",
    "#print(i, files[i].rsplit('/')[-1])\n",
    "\n",
    "for j in range(crp.shape[1]):\n",
    "    data.append(list(crp[:, j]))\n",
    "data = np.array(data)\n",
    "Data = pd.DataFrame(data)\n",
    "Data.to_csv('hasakelum.csv')"
   ]
  },
  {
   "cell_type": "code",
   "execution_count": 13,
   "metadata": {},
   "outputs": [
    {
     "name": "stdout",
     "output_type": "stream",
     "text": [
      "0\n"
     ]
    }
   ],
   "source": [
    "import numpy as np\n",
    "import pandas as pd\n",
    "import os\n",
    "from PCP import PCP\n",
    "CtoN = {'a': 0, 'am': 1, 'bm': 2, 'c': 3, 'd': 4,\n",
    "        'dm': 5, 'e': 6, 'em': 7, 'f': 8, 'g': 9}\n",
    "dir = '/Users/chamu/Chords-and-Beats-Extraction-using-ML/Reduced Dataset'\n",
    "folders = [os.path.join(dir, i) for i in os.listdir(dir) if len(i) < 4]\n",
    "files = []\n",
    "print(len(files))\n",
    "#for folder in folders:\n",
    "    #files += [os.path.join(folder, i) for i in os.listdir(folder)]\n",
    "data = []\n",
    "#for i in range(len(files)):\n",
    "    #print(files[i])\n",
    "crp = PCP('/Users/chamu/Chords-and-Beats-Extraction-using-ML/Reduced Dataset/', 'audio.wav')\n",
    "crp = np.array(crp).reshape(-1,1)\n",
    "#print(i, files[i].rsplit('/')[-1])\n",
    "\n",
    "for j in range(crp.shape[1]):\n",
    "    data.append(list(crp[:, j]))\n",
    "data = np.array(data)\n",
    "Data = pd.DataFrame(data)\n",
    "Data.to_csv('hasakelum.csv')"
   ]
  },
  {
   "cell_type": "code",
   "execution_count": 14,
   "metadata": {},
   "outputs": [
    {
     "ename": "FileNotFoundError",
     "evalue": "[WinError 3] The system cannot find the path specified: '/Users/Hasakelum/Desktop/Chords-and-Beats-Extraction-using-ML/ReducedData'",
     "output_type": "error",
     "traceback": [
      "\u001b[1;31m---------------------------------------------------------------------------\u001b[0m",
      "\u001b[1;31mFileNotFoundError\u001b[0m                         Traceback (most recent call last)",
      "\u001b[1;32m<ipython-input-14-5f0ce5529b3a>\u001b[0m in \u001b[0;36m<module>\u001b[1;34m\u001b[0m\n\u001b[0;32m     10\u001b[0m \u001b[1;33m\u001b[0m\u001b[0m\n\u001b[0;32m     11\u001b[0m \u001b[1;33m\u001b[0m\u001b[0m\n\u001b[1;32m---> 12\u001b[1;33m \u001b[1;32mfor\u001b[0m \u001b[0mfilename\u001b[0m \u001b[1;32min\u001b[0m \u001b[0mos\u001b[0m\u001b[1;33m.\u001b[0m\u001b[0mlistdir\u001b[0m\u001b[1;33m(\u001b[0m\u001b[0mdir\u001b[0m\u001b[1;33m)\u001b[0m\u001b[1;33m:\u001b[0m\u001b[1;33m\u001b[0m\u001b[1;33m\u001b[0m\u001b[0m\n\u001b[0m\u001b[0;32m     13\u001b[0m     \u001b[1;32mif\u001b[0m \u001b[0mfilename\u001b[0m\u001b[1;33m.\u001b[0m\u001b[0mendswith\u001b[0m\u001b[1;33m(\u001b[0m\u001b[1;34m\".wav\"\u001b[0m\u001b[1;33m)\u001b[0m\u001b[1;33m:\u001b[0m\u001b[1;33m\u001b[0m\u001b[1;33m\u001b[0m\u001b[0m\n\u001b[0;32m     14\u001b[0m         \u001b[0mprint\u001b[0m\u001b[1;33m(\u001b[0m\u001b[0mos\u001b[0m\u001b[1;33m.\u001b[0m\u001b[0mpath\u001b[0m\u001b[1;33m.\u001b[0m\u001b[0mjoin\u001b[0m\u001b[1;33m(\u001b[0m\u001b[0mdir\u001b[0m\u001b[1;33m,\u001b[0m \u001b[0mfilename\u001b[0m\u001b[1;33m)\u001b[0m\u001b[1;33m)\u001b[0m\u001b[1;33m\u001b[0m\u001b[1;33m\u001b[0m\u001b[0m\n",
      "\u001b[1;31mFileNotFoundError\u001b[0m: [WinError 3] The system cannot find the path specified: '/Users/Hasakelum/Desktop/Chords-and-Beats-Extraction-using-ML/ReducedData'"
     ]
    }
   ],
   "source": [
    "import numpy as np\n",
    "import pandas as pd\n",
    "import os\n",
    "from PCP import PCP\n",
    "CtoN = {'a': 0, 'am': 1, 'bm': 2, 'c': 3, 'd': 4,\n",
    "        'dm': 5, 'e': 6, 'em': 7, 'f': 8, 'g': 9}\n",
    "dir = '/Users/Hasakelum/Desktop/Chords-and-Beats-Extraction-using-ML/ReducedData'\n",
    "#folders = [os.path.join(dir, i) for i in os.listdir(dir) if len(i) < 4]\n",
    "files = []\n",
    "\n",
    "\n",
    "for filename in os.listdir(dir):\n",
    "    if filename.endswith(\".wav\"):\n",
    "        print(os.path.join(dir, filename))\n",
    "    else:\n",
    "        continue"
   ]
  },
  {
   "cell_type": "code",
   "execution_count": 15,
   "metadata": {},
   "outputs": [
    {
     "name": "stdout",
     "output_type": "stream",
     "text": [
      "/Users/chamu/Chords-and-Beats-Extraction-using-ML/Reduced Dataset\\audio.wav\n"
     ]
    }
   ],
   "source": [
    "import numpy as np\n",
    "import pandas as pd\n",
    "import os\n",
    "from PCP import PCP\n",
    "CtoN = {'a': 0, 'am': 1, 'bm': 2, 'c': 3, 'd': 4,\n",
    "        'dm': 5, 'e': 6, 'em': 7, 'f': 8, 'g': 9}\n",
    "dir = '/Users/chamu/Chords-and-Beats-Extraction-using-ML/Reduced Dataset'\n",
    "#folders = [os.path.join(dir, i) for i in os.listdir(dir) if len(i) < 4]\n",
    "files = []\n",
    "\n",
    "\n",
    "for filename in os.listdir(dir):\n",
    "    if filename.endswith(\".wav\"):\n",
    "        print(os.path.join(dir, filename))\n",
    "    else:\n",
    "        continue"
   ]
  },
  {
   "cell_type": "code",
   "execution_count": 80,
   "metadata": {},
   "outputs": [
    {
     "name": "stdout",
     "output_type": "stream",
     "text": [
      "16\n",
      "7\n",
      "0 Reduced Dataset\\a1.wav\n",
      "1 Reduced Dataset\\a2.wav\n",
      "2 Reduced Dataset\\a3.wav\n",
      "3 Reduced Dataset\\a4.wav\n",
      "4 Reduced Dataset\\a5.wav\n",
      "5 Reduced Dataset\\a6.wav\n",
      "6 Reduced Dataset\\audio.wav\n"
     ]
    }
   ],
   "source": [
    "import numpy as np\n",
    "import pandas as pd\n",
    "import os\n",
    "from PCP import PCP\n",
    "CtoN = {'a': 0, 'am': 1, 'bm': 2, 'c': 3, 'd': 4,\n",
    "        'dm': 5, 'e': 6, 'em': 7, 'f': 8, 'g': 9}\n",
    "dir = '/Users/chamu/Chords-and-Beats-Extraction-using-ML/Reduced Dataset'\n",
    "folders = [os.path.join(dir, i) for i in os.listdir(dir)]\n",
    "files = []\n",
    "print(len(folders))\n",
    "for folder in folders:\n",
    "    #print (folder)\n",
    "    if folder.endswith(\".wav\") :\n",
    "        files += [os.path.join(folder)]\n",
    "\n",
    "print (len(files))        \n",
    "data = []\n",
    " \n",
    "for i in range(len(files)):\n",
    "    #print(files[i])\n",
    "    crp = PCP('/'.join(files[i].rsplit('/')[:-1]), '/' + files[i].rsplit('/')[-1])\n",
    "    crp = np.array(crp).reshape(-1,1)\n",
    "    print(i, files[i].rsplit('/')[-1])\n",
    "    \n",
    "    for j in range(crp.shape[1]):\n",
    "        data.append(list(crp[:, j]))\n",
    "data = np.array(data)\n",
    "Data = pd.DataFrame(data)\n",
    "Data.to_csv('Dataset.csv')"
   ]
  },
  {
   "cell_type": "code",
   "execution_count": null,
   "metadata": {},
   "outputs": [],
   "source": []
  }
 ],
 "metadata": {
  "kernelspec": {
   "display_name": "Python 3",
   "language": "python",
   "name": "python3"
  },
  "language_info": {
   "codemirror_mode": {
    "name": "ipython",
    "version": 3
   },
   "file_extension": ".py",
   "mimetype": "text/x-python",
   "name": "python",
   "nbconvert_exporter": "python",
   "pygments_lexer": "ipython3",
   "version": "3.7.4"
  }
 },
 "nbformat": 4,
 "nbformat_minor": 2
}
